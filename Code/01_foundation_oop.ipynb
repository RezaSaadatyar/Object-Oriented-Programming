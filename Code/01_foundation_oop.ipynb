{
 "cells": [
  {
   "cell_type": "markdown",
   "metadata": {},
   "source": [
    "***Welcome to Object-oriented programming (OOP) in Python***<br/>\n",
    "\n",
    "Presented by: Reza Saadatyar (2024-2025) <br/>\n",
    "E-mail: Reza.Saadatyar@outlook.com "
   ]
  },
  {
   "cell_type": "markdown",
   "metadata": {},
   "source": [
    "**Outline: Foundation Notebook (01_foundation_oop.ipynb)**  \n",
    "\n",
    "**1. Class and Objects (Entity), Attributes, Methods**  \n",
    "**1.1. Dynamic Attribute Assignment**  \n",
    "$\\;\\;\\;$▪ Class definition with no initial attributes  \n",
    "$\\;\\;\\;$▪ Object creation without initial attributes      \n",
    "$\\;\\;\\;$▪ Dynamic attribute assignment after object creation  \n",
    "$\\;\\;\\;$▪ Example: Person class with name, lname, age attributes  \n",
    "$\\;\\;\\;$▪ Demonstration of `__dict__` attribute\n",
    "\n",
    "**1.2. Constructor Initialization**  \n",
    "$\\;\\;\\;$▪ Constructor method `__init__` explanation  \n",
    "$\\;\\;\\;$▪ Object creation with required attributes as arguments  \n",
    "$\\;\\;\\;$▪ Example: Person class with constructor initialization  \n",
    "$\\;\\;\\;$▪ Demonstration of proper object initialization  \n",
    "\n",
    "**1.3. Instance Variables vs Class Variables**  \n",
    "$\\;\\;\\;$▪ **Example 1**: Person class with `pay_rising` class variable  \n",
    "$\\;\\;\\;\\;\\;$∘ Instance variables: `name`, `lname`, `age`, `pay`  \n",
    "$\\;\\;\\;\\;\\;$∘ Class variable: `pay_rising` (shared among all instances)  \n",
    "$\\;\\;\\;\\;\\;$∘ Method: `pay_increase()` using class variable  \n",
    "$\\;\\;\\;\\;\\;$∘ Demonstration of instance vs class variable behavior  \n",
    "\n",
    "$\\;\\;\\;$▪ **Example 2**: Student class with user management  \n",
    "$\\;\\;\\;\\;\\;$∘ Class variables: `users (list)`, `users_course (dictionary)`  \n",
    "$\\;\\;\\;\\;\\;$∘ Instance variables: `name`, `email`, `password`, `receive`  \n",
    "$\\;\\;\\;\\;\\;$∘ Methods: `login()`, `buy()`  \n",
    "$\\;\\;\\;\\;\\;$∘ User registration and course management system  \n",
    "\n",
    "$\\;\\;\\;$▪ **Example 3**: Enhanced Student class with *user removal*  \n",
    "$\\;\\;\\;\\;\\;$∘ Additional method: `remove_user()`  \n",
    "$\\;\\;\\;\\;\\;$∘ Complete user lifecycle management  \n",
    "$\\;\\;\\;\\;\\;$∘ Demonstration of class-wide data management  "
   ]
  },
  {
   "cell_type": "markdown",
   "metadata": {},
   "source": [
    "**Import the require library**"
   ]
  },
  {
   "cell_type": "code",
   "execution_count": 1,
   "metadata": {},
   "outputs": [],
   "source": [
    "from colorama import Fore  "
   ]
  },
  {
   "cell_type": "markdown",
   "metadata": {},
   "source": [
    "**1. Class and Objects (entity), Attributes, methods**<br/>\n",
    "\n",
    "**Class:**  \n",
    "In OOP, a *class* is a blueprint or template for creating objects. It defines a set of attributes (data) and methods (functions) that its objects will have.\n",
    "\n",
    "**Object (Entity):**  \n",
    "An *object* (or *entity*) is an instance of a class. It represents a specific example of the class, with actual values assigned to its attributes.  \n",
    "An `instance` is another word for an `object` created from a class. So, *instance of a class* means  *object of that class*.\n",
    "\n",
    "• [Link 1](https://www.w3schools.com/python/python_classes.asp)$\\;\\;\\;\\;\\;$ • [Link 2](https://realpython.com/python3-object-oriented-programming/)$\\;\\;\\;\\;\\;$ • [Link 3](https://pynative.com/python-classes-and-objects/)<br/>\n",
    "\n",
    "**Attributes**<br/>\n",
    "Attributes are variables that belong to a class or an object (instance).  \n",
    "$\\;\\;\\;$*`Instance attributes`* are unique to each object (e.g., a car's color); they store data specific to that particular instance.  \n",
    "$\\;\\;\\;$*`Class attributes`* are shared among all instances of the class.\n",
    "\n",
    "**Methods**<br/>\n",
    "Methods are functions defined inside a class that describe the behaviors or actions that objects of the class can perform. Methods typically operate on the attributes of the object and use `self` to refer to the instance.  \n",
    "The `self` parameter is a reference to the current instance of the class, and is used to access variables that belong to the class.\n",
    "\n",
    "• [Link 1](https://www.w3schools.com/python/python_functions.asp)$\\;\\;\\;\\;\\;$ • [Link 2](https://www.tutorialspoint.com/difference-between-method-and-function-in-python)$\\;\\;\\;\\;\\;$ • [Link 3](https://www.pythonlikeyoumeanit.com/Module4_OOP/Methods.html)<br/>"
   ]
  },
  {
   "cell_type": "markdown",
   "metadata": {},
   "source": [
    "**1.1. Dynamic Attribute Assignment**  \n",
    "$\\;\\;\\;$*`Class Definition:`* The X class is defined with no attributes inside it.  \n",
    "$\\;\\;\\;$*`Object Creation:`* Instances of the class are created without any initial attributes.  \n",
    "$\\;\\;\\;$*`Attribute Assignment:`* Attributes like *name*, *lname*, and *age* are dynamically added to the instances after they have been created.  \n",
    "\n",
    "**Example:**  \n",
    "This example shows how attributes can be added to objects after they are created.  \n",
    "The `Person` class is defined as an empty class using the `pass` statement.  \n",
    "Two objects, `obj1` and `obj2`, are instantiated from the `Person` class.  \n",
    "After creation, attributes such as `name`, `lname`, and `age` are assigned directly to each object.  \n",
    "For instance, `obj1` is given the values 'Sara', 'abc', and 20 for its attributes, while `obj2` is assigned 'Ali', 'def', and 30.  \n",
    "Printing these attributes confirms that each object stores its own data, even though both are instances of the same class.  "
   ]
  },
  {
   "cell_type": "code",
   "execution_count": 2,
   "metadata": {},
   "outputs": [
    {
     "name": "stdout",
     "output_type": "stream",
     "text": [
      "\u001b[32mobj1.name = Sara  obj1.lname = abc   obj1.age = 20\n",
      "\u001b[32mobj2.name = Ali   obj2.lname = def   obj2.age = 30\n",
      "\u001b[34m======================================================= Dict ======================================================\n",
      "obj1.__dict__ = {'name': 'Sara', 'lname': 'abc', 'age': 20}\n",
      "\u001b[34mobj2.__dict__ = {'name': 'Ali', 'lname': 'def', 'age': 30}\n"
     ]
    }
   ],
   "source": [
    "# ===================================== Dynamic Attribute Assignment ===========================================\n",
    "class Person:        # Define a class named `Person`\n",
    "    pass\n",
    "\n",
    "# Create objs of the class `Person` with specified attributes (name, lname, age)\n",
    "obj1 = Person()\n",
    "obj1.name = \"Sara\"\n",
    "obj1.lname = \"abc\"\n",
    "obj1.age = 20\n",
    "\n",
    "obj2 = Person()\n",
    "obj2.name = \"Ali\"\n",
    "obj2.lname = \"def\"\n",
    "obj2.age = 30\n",
    "\n",
    "# Print the name, lname, age of the objects ('object1', 'object2')\n",
    "print(Fore.GREEN + f\"{obj1.name = :5} {obj1.lname = :5} {obj1.age = }\")\n",
    "print(Fore.GREEN + f\"{obj2.name = :5} {obj2.lname = :5} {obj2.age = }\")\n",
    "\n",
    "print(Fore.BLUE + f\"{55 * \"=\"} Dict {54 * \"=\"}\\n{obj1.__dict__ = }\")\n",
    "print(Fore.BLUE + f\"{obj2.__dict__ = }\")"
   ]
  },
  {
   "cell_type": "markdown",
   "metadata": {},
   "source": [
    "**1.2. Constructor Initialization**  \n",
    "*`Class Definition:`* The X class includes an `__init__` method that initializes each instance with specific attributes (e.g., *name*, *lname*, and *age*).  \n",
    "*`Object Creation:`* Instances are created with required attributes passed as arguments. This ensures that each object is properly initialized with all necessary data. \n",
    "*`Constructor Method __init__:`*  \n",
    "$\\;\\;\\;$▪ `__init__` is a special method in Python known as a constructor. It is automatically called when an instance of the class is created.  \n",
    "\n",
    "\n",
    "**Example:**    \n",
    "This example demonstrates initializing object attributes using a constructor.  \n",
    "The `Person` class includes an `__init__` method, which is automatically called when a new object is created.  \n",
    "Inside `__init__`, the parameters `name`, `lname`, and `age` are assigned to the instance using `self`.  \n",
    "When creating a `Person` object, you provide these values as arguments:  \n",
    "▪ `obj1` is initialized with 'Sara' for name, 'abc' for lname, and 20 for age.  \n",
    "▪ `obj2` is initialized with 'Ali' for name, 'def' for lname, and 30 for age.  \n",
    "The constructor ensures each object starts with its own set of attribute values.  "
   ]
  },
  {
   "cell_type": "code",
   "execution_count": 3,
   "metadata": {},
   "outputs": [
    {
     "name": "stdout",
     "output_type": "stream",
     "text": [
      "\u001b[32mobj1.name = Sara  obj1.lname = abc   obj1.age = 20\n",
      "obj2.name = Tom   obj2.lname = frt   obj2.age = 30\n",
      "\u001b[34m\n",
      "======================================================= Dict ======================================================\n",
      "obj1.__dict__ = {'name': 'Sara', 'lname': 'abc', 'age': 20}\n",
      "obj2.__dict__ = {'name': 'Tom', 'lname': 'frt', 'age': 30}\n"
     ]
    }
   ],
   "source": [
    "# ========================================== Constructor Initialization ========================================\n",
    "class Person:  # Define a class named `Person`\n",
    "    def __init__(self, name: str, lname: str, age: int):\n",
    "        self.name = name  # Initialize `name` attribute with the provided first name\n",
    "        self.lname = lname  # Initialize `lname` attribute with the provided last name\n",
    "        self.age = age  # Initialize `age` attribute with the provided age value\n",
    "\n",
    "# Create an object of the class `Person` with specified attributes (name, lname, age)\n",
    "obj1 = Person(name=\"Sara\", lname=\"abc\", age=20) # obj1 is an object (instance) of Person\n",
    "obj2 = Person(name=\"Tom\", lname=\"frt\", age=30)  # obj2 is another object (instance) of Person\n",
    "\n",
    "# Access instance attributes & Print the name, lname, age of the objects ('obj1', 'obj2')\n",
    "print(Fore.GREEN + f\"{obj1.name = :5} {obj1.lname = :5} {obj1.age = }\") # Sara (instance attribute)\n",
    "print(f\"{obj2.name = :5} {obj2.lname = :5} {obj2.age = }\")\n",
    "\n",
    "print(Fore.BLUE + f\"\\n{55 * \"=\"} Dict {54 * \"=\"}\")\n",
    "print(f\"{obj1.__dict__ = }\")\n",
    "print(f\"{obj2.__dict__ = }\")"
   ]
  },
  {
   "cell_type": "markdown",
   "metadata": {},
   "source": [
    "**1.3. Instance or object variables vs Class variables**  \n",
    "▪ *`Instance variables`* are specific to each object created from a class; each object maintains its own copy of these variables. These variables are typically initialized within the `__init__` method of a class, allowing different instances to hold different values for these variables. Changes to an instance variable in one object do not affect the same variable in another object.   \n",
    "▪ *`Class variables`* are shared across all instances of a class. They are defined within the class body outside of any methods. This means that if the value of a class variable is changed in one instance, the change is reflected across all instances of the class.   \n",
    "▪ A *`method`* is a function defined within a class to perform actions on instances of that class, operating on instance variables and defining class-specific behaviors.  \n",
    "\n",
    "**Example 1: Instance variables vs Class variables**    \n",
    "The following code demonstrates the distinction between *instance variables* and *class variables* within a class.  \n",
    "*`Instance variables`* such as *`name`*, *`lname`*, *`age`*, and *`pay`* are unique to each object and are initialized in the `__init__` method. Each instance of the class maintains its own separate values for these variables.  \n",
    "In contrast, a *class variable* like `pay_rising` is defined in the class body and is shared among all instances. Here, `pay_rising` represents a 10% pay increase rate that applies to every object of the class.  \n",
    "The `pay_increase` method shows how an instance variable (`pay`) can be updated using the shared class variable (`pay_rising`). This method increases the `pay` of a `Person` object by the percentage specified in `pay_rising`.  \n",
    "Two `Person` objects, `obj1` and `obj2`, are created with their own values for `name`, `lname`, `age`, and `pay`.  \n",
    "By calling `pay_increase` on each object, the code illustrates how each instance's data can be changed individually, while still relying on a class-level value that is common to all instances.  "
   ]
  },
  {
   "cell_type": "code",
   "execution_count": 4,
   "metadata": {},
   "outputs": [
    {
     "name": "stdout",
     "output_type": "stream",
     "text": [
      "obj1.name = Sara  obj1.lname = abc   obj1.age = 20 obj1.pay = 2000\n",
      "obj2.name = Tom   obj2.lname = frt   obj2.age = 30 obj2.pay = 2500\n"
     ]
    }
   ],
   "source": [
    "# ================================= Instance variables vs Class variables ======================================\n",
    "class Person:  # Define a class named `Person`\n",
    "    \n",
    "    pay_rising = 0.1  # Class variable shared by all instances, initial pay rise rate is 10%\n",
    "    \n",
    "    def __init__(self, name: str, lname: str, age: int, pay: int): # Constructor to initialize the person objects\n",
    "        self.name = name    # Instance variable for the person's first name\n",
    "        self.lname = lname  # Instance variable for the person's last name\n",
    "        self.age = age      # Instance variable for the person's age\n",
    "        self.pay = pay      # Instance variable for the person's pay\n",
    "\n",
    "    def pay_increase(self): # Instance method to increase the person's pay\n",
    "        self.pay += int(self.pay * self.pay_rising) # Calculate and update pay based on the current pay_rising value\n",
    "\n",
    "# Create instances (an object) of the class `Person` with specified attributes (name, lname, age)\n",
    "obj1 = Person(name=\"Sara\", lname=\"abc\", age=20, pay=2000) # Create object1 of Person class\n",
    "obj2 = Person(name=\"Tom\", lname=\"frt\", age=30, pay=2500)  # Create object2 of Person class\n",
    "\n",
    "# ----------------- Access attributes & print the name, lname, age, and pay of each object ---------------------\n",
    "print(f\"{obj1.name = :5} {obj1.lname = :5} {obj1.age = :2} {obj1.pay = }\")\n",
    "print(f\"{obj2.name = :5} {obj2.lname = :5} {obj2.age = :2} {obj2.pay = }\")"
   ]
  },
  {
   "cell_type": "code",
   "execution_count": 5,
   "metadata": {},
   "outputs": [
    {
     "name": "stdout",
     "output_type": "stream",
     "text": [
      "obj1.pay_rising = 0.1, obj2.pay_rising = 0.1\n",
      "obj1.pay = 2200, obj2.pay = 2750\n"
     ]
    }
   ],
   "source": [
    "# ---------------- Print the current value of the class variable pay_rising for both objects -------------------\n",
    "print(f\"{obj1.pay_rising = }, {obj2.pay_rising = }\")  # Print shared class variable for both objects\n",
    "\n",
    "# Increase pay for both objects based on the current pay_rising value\n",
    "obj1.pay_increase()  # Call method to increase pay for object1\n",
    "obj2.pay_increase()  # Call method to increase pay for object2\n",
    "\n",
    "# Print the updated pay values for both objects\n",
    "print(f\"{obj1.pay = }, {obj2.pay = }\")"
   ]
  },
  {
   "cell_type": "code",
   "execution_count": 6,
   "metadata": {},
   "outputs": [
    {
     "name": "stdout",
     "output_type": "stream",
     "text": [
      "obj1.pay_rising = 0.15, obj2.pay_rising = 0.1\n",
      "\u001b[32mobj1.pay = 2530, obj2.pay = 3025\n"
     ]
    }
   ],
   "source": [
    "# --------- Change the pay_rising rate for object1 only (creates an instance variable for object1) -------------\n",
    "obj1.pay_rising = 0.15\n",
    "\n",
    "# Print the current pay_rising values for both objects again\n",
    "print(f\"{obj1.pay_rising = }, {obj2.pay_rising = }\")\n",
    "\n",
    "# Increase pay for both objects again, but object1 will use the new pay_rising value\n",
    "obj1.pay_increase()  # Increases pay for object1 with new pay_rising value\n",
    "obj2.pay_increase()  # Increases pay for object2 with the original class variable value\n",
    "\n",
    "# Print the updated pay values for both objects\n",
    "print(Fore.GREEN + f\"{obj1.pay = }, {obj2.pay = }\")"
   ]
  },
  {
   "cell_type": "code",
   "execution_count": 7,
   "metadata": {},
   "outputs": [
    {
     "name": "stdout",
     "output_type": "stream",
     "text": [
      "\u001b[35mobj1.__dict__ = {'name': 'Sara', 'lname': 'abc', 'age': 20, 'pay': 2530, 'pay_rising': 0.15}\n",
      "obj2.__dict__ = {'name': 'Tom', 'lname': 'frt', 'age': 30, 'pay': 3025}\n",
      "Person.__dict__ = mappingproxy({'__module__': '__main__', 'pay_rising': 0.1, '__init__': <function Person.__init__ at 0x0000023E4147EFC0>, 'pay_increase': <function Person.pay_increase at 0x0000023E4147F100>, '__dict__': <attribute '__dict__' of 'Person' objects>, '__weakref__': <attribute '__weakref__' of 'Person' objects>, '__doc__': None})\n"
     ]
    }
   ],
   "source": [
    "# Display all instance-specific and class-wide properties ----------------------------\n",
    "print(Fore.MAGENTA+ f\"{obj1.__dict__ = }\\n{obj2.__dict__ = }\\n{Person.__dict__ = }\")"
   ]
  },
  {
   "cell_type": "markdown",
   "metadata": {},
   "source": [
    "**Example 2: Instance variables vs Class variables**  \n",
    "The Student class manages registration and course purchases for students.   \n",
    "\n",
    "`Class variables:`  \n",
    "▪ *`users`:* a list containing all registered student names.  \n",
    "▪ *`users_course`:* a dictionary mapping student names to their purchased courses.  \n",
    "\n",
    "`Instance variables:`  \n",
    "▪ *`name`, `email`, `password`, `receive`:* store individual student information.\n",
    "\n",
    "The constructor (`__init__`) registers a new student (name, email, password, receive) and adds the student to the `users` list.\n",
    "\n",
    "`Methods:`  \n",
    "▪ *`login`:* Checks if a given name is registered and prints an appropriate message.  \n",
    "▪ *`buy`:* Assigns a course to the student and updates the class-wide course mapping.  \n",
    "\n",
    "`Usage:`  \n",
    "▪ Create two students with different attributes.  \n",
    "▪ Each student purchases a course, updating the shared course mapping.  \n",
    "▪ Demonstrate login attempts for both registered and unregistered users.  "
   ]
  },
  {
   "cell_type": "code",
   "execution_count": 8,
   "metadata": {},
   "outputs": [
    {
     "name": "stdout",
     "output_type": "stream",
     "text": [
      "Stud1 welcome!\n",
      "Stud1 has purchased the course: matlab\n",
      "\n",
      "Stud2 welcome!\n",
      "Stud2 has purchased the course: python\n",
      "\n"
     ]
    }
   ],
   "source": [
    "# ================================= Instance variables vs Class variables ======================================\n",
    "class Student:\n",
    "    \n",
    "    users = []                   # Class variable to store list of user names\n",
    "    users_course = {}            # Class variable to store dictionary mapping user names to their courses\n",
    "    \n",
    "    def __init__(self, name: str, email: str, password: int, receive):\n",
    "        self.name = name         # Instance variable to store the student's name\n",
    "        self.email = email       # Instance variable to store the student's email\n",
    "        self.password = password # Instance variable to store the student's password\n",
    "        self.receive = receive   # Instance variable to store whether the student wants to receive updates\n",
    "        Student.users.append(self.name)  # Adds the new student's name to the class variable list `users`\n",
    "        print(f\"{self.name} welcome!\")   # Greeting the user upon creation\n",
    "    \n",
    "    def login(self, name: str):\n",
    "        if name in Student.users:  # Checks if the given name exists in the `users` list\n",
    "            print(f\"{name} has an account.\")  # Indicates the user has an account\n",
    "        else:\n",
    "            print(f\"{name} must register.\")  # Indicates the user must register\n",
    "            \n",
    "    def buy(self, coursename: str): # Method to assign a course to the student\n",
    "        Student.users_course[self.name] = coursename  # Maps the student's name to the purchased course\n",
    "        print(f\"{self.name} has purchased the course: {coursename}\\n\")\n",
    "\n",
    "# Create an object of the class\n",
    "obj1 = Student(\"Stud1\", \"Stud1@.com\", \"2547\", True)  # Creates an instance of `student` named \"Stud1\"\n",
    "obj1.buy(\"matlab\")  # The student \"aa\" purchases the \"matlab\" course\n",
    "\n",
    "obj2 = Student(\"Stud2\", \"Stud2@.com\", \"247\", True)  # Creates another instance of `student` named \"Stud2\"\n",
    "obj2.buy(\"python\")  # The student \"rr\" purchases the \"python\" course"
   ]
  },
  {
   "cell_type": "code",
   "execution_count": 9,
   "metadata": {},
   "outputs": [
    {
     "name": "stdout",
     "output_type": "stream",
     "text": [
      "Student.users = ['Stud1', 'Stud2']\n",
      "Student.users_course = {'Stud1': 'matlab', 'Stud2': 'python'}\n"
     ]
    }
   ],
   "source": [
    "# Student users & courses\n",
    "print(f\"{Student.users = }\\n{Student.users_course = }\")"
   ]
  },
  {
   "cell_type": "code",
   "execution_count": 10,
   "metadata": {},
   "outputs": [
    {
     "name": "stdout",
     "output_type": "stream",
     "text": [
      "Stud3 must register.\n",
      "Stud3 welcome!\n",
      "Stud3 has an account.\n",
      "\u001b[35mStudent.users = ['Stud1', 'Stud2', 'Stud3']; Student.users_course = {'Stud1': 'matlab', 'Stud2': 'python'}\n"
     ]
    }
   ],
   "source": [
    "# Update student users & courses\n",
    "obj2.login(\"Stud3\")  # Attempts to log in a user named \"Stud3\", expected print: \"Stud3 must register.\"\n",
    "obj3 = Student(\"Stud3\", \"Stud3@.com\", \"5478\", True)  # Creates a new instance of `student` named \"Stud3\"\n",
    "obj3.login(\"Stud3\")  # Now attempts to log in \"Stud3\" again, expected print: \"Stud3 has an account.\"\n",
    "print(Fore.MAGENTA + f\"{Student.users = }; {Student.users_course = }\")  # Prints the updated list of user names, courese\n"
   ]
  },
  {
   "cell_type": "code",
   "execution_count": 11,
   "metadata": {},
   "outputs": [
    {
     "name": "stdout",
     "output_type": "stream",
     "text": [
      "\u001b[36mobj1.__dict__ = {'name': 'Stud1', 'email': 'Stud1@.com', 'password': '2547', 'receive': True}\n",
      "obj2.__dict__ = {'name': 'Stud2', 'email': 'Stud2@.com', 'password': '247', 'receive': True}\n",
      "obj3.__dict__ = {'name': 'Stud3', 'email': 'Stud3@.com', 'password': '5478', 'receive': True}\n"
     ]
    }
   ],
   "source": [
    "print(Fore.CYAN + f\"{obj1.__dict__ = }\\n{obj2.__dict__ = }\\n{obj3.__dict__ = }\")"
   ]
  },
  {
   "cell_type": "markdown",
   "metadata": {},
   "source": [
    "**Example 3: Instance variables vs Class variables**  \n",
    "This code builds on the previous example (Example 2) by defining a `Student` class to manage student accounts and their course registrations.  \n",
    "The `remove_user` method allows for explicit removal of a student from the `users` list and also deletes any associated course from the `users_course` dictionary.  \n",
    "It first checks if the student is registered, removes their course registration if present, and then removes the student's name from the `users` list.  \n",
    "The `login` method checks if a student's name exists in the `users` list and prints a message indicating whether the student has an account or needs to register.  \n",
    "The `buy` method lets a student purchase a course by updating the `users_course` dictionary and prints a confirmation of the purchase.  "
   ]
  },
  {
   "cell_type": "code",
   "execution_count": 12,
   "metadata": {},
   "outputs": [
    {
     "name": "stdout",
     "output_type": "stream",
     "text": [
      "Stud1 is added.\n",
      "Stud1 bought matlab.\n",
      "\n",
      "Stud2 is added.\n",
      "Stud2 bought python.\n",
      "\n",
      "Stud3 is added.\n",
      "Stud3 has an account.\n",
      "\n",
      "\u001b[32mStudent.users = ['Stud1', 'Stud2', 'Stud3']\n",
      "Student.users_course = {'Stud1': 'matlab', 'Stud2': 'python'}\n"
     ]
    }
   ],
   "source": [
    "# ================================= Instance variables vs Class variables ======================================\n",
    "class Student:\n",
    "    \n",
    "    users = []                   # Class variable that keeps a list of user names\n",
    "    users_course = {}            # Class variable that maps user names to their purchased courses\n",
    "    \n",
    "    def __init__(self, name: str, email: str, password: int, receive):\n",
    "        self.name = name         # Instance variable for storing the student's name\n",
    "        self.email = email       # Instance variable for storing the student's email\n",
    "        self.password = password # Instance variable for storing the student's password\n",
    "        self.receive = receive   # Instance variable for storing whether the student opts to receive notifications\n",
    "        Student.users.append(self.name)  # Adds the student's name to the class list `users`\n",
    "        print(f\"{self.name} is added.\")  # Prints a message confirming the addition of the student\n",
    "    \n",
    "    # def __del__(self): # Removes user from the `users` list upon object deletion (currently commented out)\n",
    "    #     student.users.remove(self.name)  \n",
    "    \n",
    "    def remove_user(self):  # Method to explicitly remove a user\n",
    "        Student.users.remove(self.name)  # Removes the student from the `users` list\n",
    "        print(f\"{self.name} is removed.\")  # Prints a confirmation that the user has been removed\n",
    "        if self.name in Student.users_course:\n",
    "            del Student.users_course[self.name]  # Removes any course associated with the student from `users_course`\n",
    "            print(f\"Course {self.name} is removed.\\n\")  # Prints a confirmation that the course registration is removed\n",
    "\n",
    "    def login(self, name: str):  # Method for logging in a user\n",
    "        if name in Student.users:  # Checks if the name exists in the `users` list\n",
    "            print(f\"{name} has an account.\\n\")  # Confirmation message that the user has an account\n",
    "        else:\n",
    "            print(f\"{name} must register.\\n\")  # Message indicating the user needs to register\n",
    "            \n",
    "    def buy(self, coursename: str):  # Method to assign a course to a student\n",
    "        Student.users_course[self.name] = coursename  # Maps the course name to the student in `users_course`\n",
    "        print(f\"{self.name} bought {coursename}.\\n\")  # Prints a confirmation that the course has been purchased\n",
    "\n",
    "# Create an object of the class\n",
    "obj1 = Student(\"Stud1\", \"Stud1@.com\", \"2547\", True)  # Creates an instance `Stud1`\n",
    "obj1.buy(\"matlab\")  # `Stud1` buys the course \"matlab\"\n",
    "obj2 = Student(\"Stud2\", \"Stud2@.com\", \"247\", True)  # Creates another instance `Stud2`\n",
    "obj2.buy(\"python\")  # `Stud2` buys the course \"python\"\n",
    "obj3 = Student(\"Stud3\", \"Stud3@.com\", \"5478\", True)  # Creates another instance `Stud3`\n",
    "obj3.login(\"Stud3\")  # Attempts to log in the student \"Stud3\"\n",
    "\n",
    "# Student users & courses\n",
    "print(Fore.GREEN + f\"{Student.users = }\\n{Student.users_course = }\")"
   ]
  },
  {
   "cell_type": "code",
   "execution_count": 13,
   "metadata": {},
   "outputs": [
    {
     "name": "stdout",
     "output_type": "stream",
     "text": [
      "Stud1 is removed.\n",
      "Course Stud1 is removed.\n",
      "\n",
      "\u001b[34mStudent.users = ['Stud2', 'Stud3']; Student.users_course = {'Stud2': 'python'}\n",
      "\u001b[35mobj1.__dict__ = {'name': 'Stud1', 'email': 'Stud1@.com', 'password': '2547', 'receive': True}\n"
     ]
    }
   ],
   "source": [
    "# Remove student users & courseses\n",
    "obj1.remove_user()  # Calls the method to remove `student_jame` from users\n",
    "print(Fore.BLUE + f\"{Student.users = }; {Student.users_course = }\")\n",
    "\n",
    "print(Fore.MAGENTA + f\"{obj1.__dict__ = }\")"
   ]
  }
 ],
 "metadata": {
  "kernelspec": {
   "display_name": "Python 3",
   "language": "python",
   "name": "python3"
  },
  "language_info": {
   "codemirror_mode": {
    "name": "ipython",
    "version": 3
   },
   "file_extension": ".py",
   "mimetype": "text/x-python",
   "name": "python",
   "nbconvert_exporter": "python",
   "pygments_lexer": "ipython3",
   "version": "3.12.2"
  }
 },
 "nbformat": 4,
 "nbformat_minor": 2
}
